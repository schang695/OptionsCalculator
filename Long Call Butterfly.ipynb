{
 "cells": [
  {
   "cell_type": "code",
   "execution_count": 15,
   "metadata": {},
   "outputs": [],
   "source": [
    "import numpy as np\n",
    "import matplotlib.pyplot as plt\n"
   ]
  },
  {
   "cell_type": "code",
   "execution_count": 34,
   "metadata": {},
   "outputs": [],
   "source": [
    "# Long Call Butterfly Strategy:\n",
    "# Buy ITM Call; Buy OTM Call; Write 2 ATM Call\n",
    "s0 = 50           #Initial stock price\n",
    "k1 = 40;c1 = 2.00 #ITM call strike/premium(C1) LONG\n",
    "k2 = 50;c2 = 1.00 #ATM call strike/premium(C2,C3) SHORT\n",
    "k3 = 60;c3 = 0.50 #OTM call strike/premium(C4) LONG\n",
    "shares = 100      #100 shares/lot"
   ]
  },
  {
   "cell_type": "code",
   "execution_count": 35,
   "metadata": {},
   "outputs": [],
   "source": [
    "#Stock price at expiration\n",
    "sT = np.arange(0, 2*s0 ,2)"
   ]
  },
  {
   "cell_type": "code",
   "execution_count": 40,
   "metadata": {},
   "outputs": [
    {
     "name": "stdout",
     "output_type": "stream",
     "text": [
      "[-50. -50. -50. -50. -50. -50. -50. -50. -50. -50. -50. -50. -50. -50.\n",
      " -50. -50. -50. -50. -50. -50. -50. 150. 350. 550. 750. 950. 750. 550.\n",
      " 350. 150. -50. -50. -50. -50. -50. -50. -50. -50. -50. -50. -50. -50.\n",
      " -50. -50. -50. -50. -50. -50. -50. -50.]\n",
      "[-200. -200. -200. -200. -200. -200. -200. -200. -200. -200. -200. -200.\n",
      " -200. -200. -200. -200. -200. -200. -200. -200. -200.    0.  200.  400.\n",
      "  600.  800. 1000. 1200. 1400. 1600. 1800. 2000. 2200. 2400. 2600. 2800.\n",
      " 3000. 3200. 3400. 3600. 3800. 4000. 4200. 4400. 4600. 4800. 5000. 5200.\n",
      " 5400. 5600.]\n",
      "[  200.   200.   200.   200.   200.   200.   200.   200.   200.   200.\n",
      "   200.   200.   200.   200.   200.   200.   200.   200.   200.   200.\n",
      "   200.   200.   200.   200.   200.   200.  -200.  -600. -1000. -1400.\n",
      " -1800. -2200. -2600. -3000. -3400. -3800. -4200. -4600. -5000. -5400.\n",
      " -5800. -6200. -6600. -7000. -7400. -7800. -8200. -8600. -9000. -9400.]\n",
      "[ -50.  -50.  -50.  -50.  -50.  -50.  -50.  -50.  -50.  -50.  -50.  -50.\n",
      "  -50.  -50.  -50.  -50.  -50.  -50.  -50.  -50.  -50.  -50.  -50.  -50.\n",
      "  -50.  -50.  -50.  -50.  -50.  -50.  -50.  150.  350.  550.  750.  950.\n",
      " 1150. 1350. 1550. 1750. 1950. 2150. 2350. 2550. 2750. 2950. 3150. 3350.\n",
      " 3550. 3750.]\n"
     ]
    },
    {
     "data": {
      "image/png": "[encoded data removed]",
      "text/plain": [
       "<matplotlib.figure.Figure at 0x174b7f52c50>"
      ]
     },
     "metadata": {},
     "output_type": "display_data"
    }
   ],
   "source": [
    "#Payoff from Lower strike (k1) ITM Long Call\n",
    "y1 = np.where(sT > k1,((sT-k1) - c1) * shares, -c1 * shares)\n",
    "#Payoff from ATM Call option (Short)\n",
    "y2 = np.where(sT > k2,((k2-sT) + c2) * shares * 2, c2 * shares * 2)\n",
    "#Payoff from Higher strike (k2) ITM Long Call\n",
    "y3 = np.where(sT > k3,((sT-k3) - c3) * shares, -c3 * shares)\n",
    "\n",
    "#Payoff for Butterfly\n",
    "y = y1 + y2 + y3\n",
    "\n",
    "#Plot\n",
    "fig, ax = plt.subplots()\n",
    "ax.spines['top'].set_visible(False) # Top border removed \n",
    "ax.spines['right'].set_visible(False) # Right border removed\n",
    "ax.spines['bottom'].set_position('zero') # Sets the X-axis in the center\n",
    "ax.tick_params(top=False, right=False) # Removes the tick-marks on the RHS\n",
    "\n",
    "plt.plot(sT,y,lw = 1.5, label = \"y\")\n",
    "plt.plot(sT,y1,lw= 1.5, label = \"y1\")\n",
    "plt.plot(sT,y2,lw= 1.5, label = \"y2\")\n",
    "plt.plot(sT,y3,lw= 1.5, label = \"y3\")\n",
    "plt.axis([0, 2*s0, ((-c1+-c3)*shares), 1050])\n",
    "plt.legend();\n",
    "\n",
    "print(y)\n",
    "print(y1)\n",
    "print(y2)\n",
    "print(y3)"
   ]
  },
  {
   "cell_type": "code",
   "execution_count": null,
   "metadata": {},
   "outputs": [],
   "source": []
  }
 ],
 "metadata": {
  "kernelspec": {
   "display_name": "Python 3",
   "language": "python",
   "name": "python3"
  },
  "language_info": {
   "codemirror_mode": {
    "name": "ipython",
    "version": 3
   },
   "file_extension": ".py",
   "mimetype": "text/x-python",
   "name": "python",
   "nbconvert_exporter": "python",
   "pygments_lexer": "ipython3",
   "version": "3.6.4"
  }
 },
 "nbformat": 4,
 "nbformat_minor": 2
}
