{
 "cells": [
  {
   "cell_type": "code",
   "execution_count": 1,
   "metadata": {},
   "outputs": [],
   "source": [
    "import numpy as np\n",
    "import matplotlib.pyplot as plt"
   ]
  },
  {
   "cell_type": "code",
   "execution_count": 2,
   "metadata": {},
   "outputs": [],
   "source": [
    "#Long Call Condor Option\n",
    "s0 = 50\n",
    "k1 = 40;c1 = 4 #Buy 1 ITM Call (k1)       A\n",
    "k2 = 45;c2 = 3 #Sell 1 ITM Call (k2 > k1) B\n",
    "k3 = 55;c3 = 2 #Sell 1 OTM Call (k3)      C\n",
    "k4 = 60;c4 = 1 #Buy 1 OTM Call (k4>k3)    D\n",
    "shares = 100 #100 shares/lot "
   ]
  },
  {
   "cell_type": "code",
   "execution_count": 3,
   "metadata": {},
   "outputs": [],
   "source": [
    "sT = np.arange(0, 2*s0 ,1) #range from 0 - 2*s0, with intervals of 2"
   ]
  },
  {
   "cell_type": "code",
   "execution_count": 10,
   "metadata": {},
   "outputs": [],
   "source": [
    "#Payoff of k1\n",
    "y1 = np.where((sT>k1), ((sT - k1) - c1) * shares, -c1 * shares)\n",
    "#payoff of k2\n",
    "y2 = np.where((sT>k2), ((k2 - sT) + c2) * shares, c2 * shares)\n",
    "#payoff of k3\n",
    "y3 = np.where((sT>k3), ((k3 - sT) + c3) * shares, c3* shares)\n",
    "#payoff of k4\n",
    "y4 = np.where((sT>k4), ((sT - k4) - c4) * shares, -c4 * shares)"
   ]
  },
  {
   "cell_type": "code",
   "execution_count": 11,
   "metadata": {},
   "outputs": [],
   "source": [
    "#Payoff for Condor\n",
    "y = y1 + y2 + y3 + y4"
   ]
  },
  {
   "cell_type": "code",
   "execution_count": 12,
   "metadata": {},
   "outputs": [
    {
     "name": "stdout",
     "output_type": "stream",
     "text": [
      "[  0   0   0   0   0   0   0   0   0   0   0   0   0   0   0   0   0   0\n",
      "   0   0   0   0   0   0   0   0   0   0   0   0   0   0   0   0   0   0\n",
      "   0   0   0   0   0 100 200 300 400 500 500 500 500 500 500 500 500 500\n",
      " 500 500 400 300 200 100   0   0   0   0   0   0   0   0   0   0   0   0\n",
      "   0   0   0   0   0   0   0   0   0   0   0   0   0   0   0   0   0   0\n",
      "   0   0   0   0   0   0   0   0   0   0]\n",
      "[-400 -400 -400 -400 -400 -400 -400 -400 -400 -400 -400 -400 -400 -400\n",
      " -400 -400 -400 -400 -400 -400 -400 -400 -400 -400 -400 -400 -400 -400\n",
      " -400 -400 -400 -400 -400 -400 -400 -400 -400 -400 -400 -400 -400 -300\n",
      " -200 -100    0  100  200  300  400  500  600  700  800  900 1000 1100\n",
      " 1200 1300 1400 1500 1600 1700 1800 1900 2000 2100 2200 2300 2400 2500\n",
      " 2600 2700 2800 2900 3000 3100 3200 3300 3400 3500 3600 3700 3800 3900\n",
      " 4000 4100 4200 4300 4400 4500 4600 4700 4800 4900 5000 5100 5200 5300\n",
      " 5400 5500]\n",
      "[  300   300   300   300   300   300   300   300   300   300   300   300\n",
      "   300   300   300   300   300   300   300   300   300   300   300   300\n",
      "   300   300   300   300   300   300   300   300   300   300   300   300\n",
      "   300   300   300   300   300   300   300   300   300   300   200   100\n",
      "     0  -100  -200  -300  -400  -500  -600  -700  -800  -900 -1000 -1100\n",
      " -1200 -1300 -1400 -1500 -1600 -1700 -1800 -1900 -2000 -2100 -2200 -2300\n",
      " -2400 -2500 -2600 -2700 -2800 -2900 -3000 -3100 -3200 -3300 -3400 -3500\n",
      " -3600 -3700 -3800 -3900 -4000 -4100 -4200 -4300 -4400 -4500 -4600 -4700\n",
      " -4800 -4900 -5000 -5100]\n",
      "[  200   200   200   200   200   200   200   200   200   200   200   200\n",
      "   200   200   200   200   200   200   200   200   200   200   200   200\n",
      "   200   200   200   200   200   200   200   200   200   200   200   200\n",
      "   200   200   200   200   200   200   200   200   200   200   200   200\n",
      "   200   200   200   200   200   200   200   200   100     0  -100  -200\n",
      "  -300  -400  -500  -600  -700  -800  -900 -1000 -1100 -1200 -1300 -1400\n",
      " -1500 -1600 -1700 -1800 -1900 -2000 -2100 -2200 -2300 -2400 -2500 -2600\n",
      " -2700 -2800 -2900 -3000 -3100 -3200 -3300 -3400 -3500 -3600 -3700 -3800\n",
      " -3900 -4000 -4100 -4200]\n",
      "[-100 -100 -100 -100 -100 -100 -100 -100 -100 -100 -100 -100 -100 -100\n",
      " -100 -100 -100 -100 -100 -100 -100 -100 -100 -100 -100 -100 -100 -100\n",
      " -100 -100 -100 -100 -100 -100 -100 -100 -100 -100 -100 -100 -100 -100\n",
      " -100 -100 -100 -100 -100 -100 -100 -100 -100 -100 -100 -100 -100 -100\n",
      " -100 -100 -100 -100 -100    0  100  200  300  400  500  600  700  800\n",
      "  900 1000 1100 1200 1300 1400 1500 1600 1700 1800 1900 2000 2100 2200\n",
      " 2300 2400 2500 2600 2700 2800 2900 3000 3100 3200 3300 3400 3500 3600\n",
      " 3700 3800]\n"
     ]
    },
    {
     "data": {
      "image/png": "[encoded data removed]",
      "text/plain": [
       "<matplotlib.figure.Figure at 0x1fe9c375b70>"
      ]
     },
     "metadata": {},
     "output_type": "display_data"
    }
   ],
   "source": [
    "#Plot\n",
    "fig, ax = plt.subplots()\n",
    "ax.spines['top'].set_visible(False) #Remove top border\n",
    "ax.spines['bottom'].set_position('zero') # Set X-axis in the center\n",
    "plt.plot(sT,y,lw = 1.5, label = \"y\")\n",
    "\n",
    "print(y)\n",
    "print(y1)\n",
    "print(y2)\n",
    "print(y3)\n",
    "print(y4)\n"
   ]
  },
  {
   "cell_type": "code",
   "execution_count": null,
   "metadata": {},
   "outputs": [],
   "source": []
  },
  {
   "cell_type": "code",
   "execution_count": null,
   "metadata": {},
   "outputs": [],
   "source": []
  }
 ],
 "metadata": {
  "kernelspec": {
   "display_name": "Python 3",
   "language": "python",
   "name": "python3"
  },
  "language_info": {
   "codemirror_mode": {
    "name": "ipython",
    "version": 3
   },
   "file_extension": ".py",
   "mimetype": "text/x-python",
   "name": "python",
   "nbconvert_exporter": "python",
   "pygments_lexer": "ipython3",
   "version": "3.6.4"
  }
 },
 "nbformat": 4,
 "nbformat_minor": 2
}
