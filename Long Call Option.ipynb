{
 "cells": [
  {
   "cell_type": "code",
   "execution_count": 5,
   "metadata": {},
   "outputs": [],
   "source": [
    "import numpy as np\n",
    "import matplotlib.pyplot as plt"
   ]
  },
  {
   "cell_type": "code",
   "execution_count": 6,
   "metadata": {},
   "outputs": [],
   "source": [
    "# Bullish Long Call\n",
    "# Buy ATM/OTM Call Option\n",
    "s0 = 50 # Underlying Stock Price\n",
    "k1 = 40 # Stike Price \n",
    "c1 = 1 # Call Premium\n",
    "shares = 100\n"
   ]
  },
  {
   "cell_type": "code",
   "execution_count": 7,
   "metadata": {},
   "outputs": [],
   "source": [
    "#stock price @ expiration\n",
    "sT = np.arange(0, 2*s0 ,2)\n",
    "#Payoff of Call option\n",
    "y = np.where(sT > k1,((sT-k1) - c1) * shares, -c1 * shares)"
   ]
  },
  {
   "cell_type": "code",
   "execution_count": 8,
   "metadata": {},
   "outputs": [
    {
     "data": {
      "text/plain": [
       "[<matplotlib.lines.Line2D at 0x1d7cb564898>]"
      ]
     },
     "execution_count": 8,
     "metadata": {},
     "output_type": "execute_result"
    },
    {
     "data": {
      "image/png": "[encoded data removed]",
      "text/plain": [
       "<matplotlib.figure.Figure at 0x1d7cb564b38>"
      ]
     },
     "metadata": {},
     "output_type": "display_data"
    }
   ],
   "source": [
    "fig, ax = plt.subplots()\n",
    "ax.spines['top'].set_visible(False) # Top border removed \n",
    "ax.spines['right'].set_visible(False) # Right border removed\n",
    "ax.spines['bottom'].set_position('zero') # Sets the X-axis in the center\n",
    "ax.tick_params(top=False, right=False) # Removes the tick-marks on the RHS\n",
    "\n",
    "plt.plot(sT,y,lw = 1.5, label = \"y\")"
   ]
  },
  {
   "cell_type": "code",
   "execution_count": null,
   "metadata": {},
   "outputs": [],
   "source": []
  }
 ],
 "metadata": {
  "kernelspec": {
   "display_name": "Python 3",
   "language": "python",
   "name": "python3"
  },
  "language_info": {
   "codemirror_mode": {
    "name": "ipython",
    "version": 3
   },
   "file_extension": ".py",
   "mimetype": "text/x-python",
   "name": "python",
   "nbconvert_exporter": "python",
   "pygments_lexer": "ipython3",
   "version": "3.6.4"
  }
 },
 "nbformat": 4,
 "nbformat_minor": 2
}
